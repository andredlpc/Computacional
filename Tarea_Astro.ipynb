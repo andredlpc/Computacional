{
  "cells": [
    {
      "cell_type": "markdown",
      "metadata": {
        "id": "NeKbxx-BKDlZ"
      },
      "source": [
        "# **Tarea Programada**  \n",
        "**Tópicos de Astronomía y Astrofísica (IF-6008)** \\\\\n",
        "**Profesor: José Esteban Pérez** \\\\\n",
        "\n",
        "**Elaborado por:** \\\\\n",
        "Valentina Campos Aguilar - 2018086257 \\\\\n",
        "Andrea De La Peña Castro - 2018124992 \\\\\n",
        "\n",
        "**Objetivo General**: Describir y contrastar el horizonte de eventos y la ergosfera de un agujero negro rotante sin carga (Agujero Kerr) a partir de la Métrica de Kerr variando los parámetros de factor de giro y masa del agujero. \n"
      ]
    },
    {
      "cell_type": "markdown",
      "metadata": {
        "id": "dAzV7ffXLqWW"
      },
      "source": [
        "# **Métrica de Kerr**\n",
        "\n",
        "La métrica de Kerr es una generalización a un cuerpo giratorio de la métrica de Schwarzschild; esta describe la geometría del espacio-tiempo vacío alrededor de un agujero negro simétrico\n",
        "axialmente giratorio sin carga con un horizonte de eventos cuasiesférico. \\\\\n",
        "\n",
        "La métrica de Kerr está dada por:\n",
        "\n",
        "\\begin{equation}\n",
        "ds^2 = -\\left(1-\\frac{2Mr}{\\sum}\\right)dt^2 - \\frac{4M \\cdot ar \\cdot sin^2\\theta}{\\sum} d\\phi dt + \\frac{\\sum}{\\Delta}dr^2 + \\sum d\\theta^2 + \\left(r^2+a^2+\\frac{2M \\cdot ra^2 \\cdot sin^2\\theta}{\\sum}\\right) sin^2\\theta d\\phi^2\n",
        "\\end{equation}\n",
        "\n",
        "donde,\n",
        "\n",
        "$$a = \\frac{J}{M}$$ \\\\\n",
        "$$\\sum = r^2 + a^2cos^2\\theta$$ \\\\\n",
        "$$\\Delta = r^2 - 2Mr + a^2$$ \\\\\n",
        "\n",
        "*M* representa la masa del agujero negro y *J* representa el momento angular del mismo. \\\\\n",
        "\n",
        "La métrica de Kerr es un conjunto de ecuaciones altamente no lineales y representa una de las soluciones exactas de las Ecuaciones de Einstein de la Relatividad General. \\\\\n",
        "\n",
        "El primer objetivo específico del presente proyecto es precisamente asistir la resolución de las ecuaciones de Einsten con métodos computacionales. Para esto, se recurrre a la bliblioteca GraviPy que permite obtener los símbolos de Christoffel, el Tensor de Ricci y los elementos del Tensor de Einstein. Inicialmente, se define el vector de 4 coordenadas ($t$, $r$, $\\theta$, $\\phi$), la masa del agujero negro y la métrica de Kerr como una matriz diagonalizable. \\\\\n",
        "\n",
        "Donde las ecueciones de campo de Einstein están dadas por:\n",
        "\\begin{equation}\n",
        "R_{\\mu \\nu}-\\frac{1}{2}Rg_{\\mu \\nu}=8\\pi G_n T_{\\mu \\nu}\n",
        "\\end{equation}\n",
        "Y el tensor de Einstein es:\n",
        "\\begin{equation}\n",
        "G_{\\mu \\nu}= R_{\\mu \\nu}-\\frac{1}{2}Rg_{\\mu \\nu}=8\\pi G T_{\\mu \\nu}\n",
        "\\end{equation}"
      ]
    },
    {
      "cell_type": "code",
      "execution_count": null,
      "metadata": {
        "colab": {
          "base_uri": "https://localhost:8080/"
        },
        "id": "DDkFjtTzD0TG",
        "outputId": "0bb959e1-ab44-4cfd-b629-c0fb7e5728e7"
      },
      "outputs": [
        {
          "metadata": {
            "tags": null
          },
          "name": "stdout",
          "output_type": "stream",
          "text": [
            "Looking in indexes: https://pypi.org/simple, https://us-python.pkg.dev/colab-wheels/public/simple/\n",
            "Requirement already satisfied: gravipy in /usr/local/lib/python3.7/dist-packages (0.2.0)\n",
            "Requirement already satisfied: sympy>=1.4 in /usr/local/lib/python3.7/dist-packages (from gravipy) (1.7.1)\n",
            "Requirement already satisfied: mpmath>=0.19 in /usr/local/lib/python3.7/dist-packages (from sympy>=1.4->gravipy) (1.2.1)\n",
            "Símbolos de Christoffel: Matrix([[Matrix([\n",
            "[                                                              0,                -M*(a**2*cos(theta)**2 - r**2)/(a**2*cos(theta)**2 + r**2)**2,           -4*M*a**2*r*sin(2*theta)/(a**2*cos(2*theta) + a**2 + 2*r**2)**2,                                                                            0],\n",
            "[  -M*(a**2*cos(theta)**2 - r**2)/(a**2*cos(theta)**2 + r**2)**2,                                                                            0,                                                                         0, M*a*(a**2*cos(theta)**2 - r**2)*sin(theta)**2/(a**2*cos(theta)**2 + r**2)**2],\n",
            "[-4*M*a**2*r*sin(2*theta)/(a**2*cos(2*theta) + a**2 + 2*r**2)**2,                                                                            0,                                                                         0,    4*M*a*r*(a**2 + r**2)*sin(2*theta)/(a**2*cos(2*theta) + a**2 + 2*r**2)**2],\n",
            "[                                                              0, M*a*(a**2*cos(theta)**2 - r**2)*sin(theta)**2/(a**2*cos(theta)**2 + r**2)**2, 4*M*a*r*(a**2 + r**2)*sin(2*theta)/(a**2*cos(2*theta) + a**2 + 2*r**2)**2,                                                                            0]]), Matrix([\n",
            "[                 M*(a**2*cos(theta)**2 - r**2)/(a**2*cos(theta)**2 + r**2)**2,                                                                                            0,                                            0,                                                                  -M*a*(a**2*cos(theta)**2 - r**2)*sin(theta)**2/(a**2*cos(theta)**2 + r**2)**2],\n",
            "[                                                                            0, (-r*(-2*M*r + a**2 + r**2) + (-M + r)*(a**2*cos(theta)**2 + r**2))/(-2*M*r + a**2 + r**2)**2, a**2*sin(2*theta)/(2*(-2*M*r + a**2 + r**2)),                                                                                                                                              0],\n",
            "[                                                                            0,                                                 a**2*sin(2*theta)/(2*(-2*M*r + a**2 + r**2)),                                            r,                                                                                                                                              0],\n",
            "[-M*a*(a**2*cos(theta)**2 - r**2)*sin(theta)**2/(a**2*cos(theta)**2 + r**2)**2,                                                                                            0,                                            0, M*a**4*sin(theta)**4*cos(theta)**2/(a**2*cos(theta)**2 + r**2)**2 - M*a**2*r**2*sin(theta)**4/(a**2*cos(theta)**2 + r**2)**2 + r*sin(theta)**2]]), Matrix([\n",
            "[            4*M*a**2*r*sin(2*theta)/(a**2*cos(2*theta) + a**2 + 2*r**2)**2,                                             0,                   0,                                                                                                                                                   -4*M*a*r*(a**2 + r**2)*sin(2*theta)/(a**2*cos(2*theta) + a**2 + 2*r**2)**2],\n",
            "[                                                                         0, -a**2*sin(2*theta)/(2*(-2*M*r + a**2 + r**2)),                  -r,                                                                                                                                                                                                                            0],\n",
            "[                                                                         0,                                            -r, a**2*sin(2*theta)/2,                                                                                                                                                                                                                            0],\n",
            "[-4*M*a*r*(a**2 + r**2)*sin(2*theta)/(a**2*cos(2*theta) + a**2 + 2*r**2)**2,                                             0,                   0, (2*M*a**2*r*(a**2 + r**2)*sin(theta)**2 + (a**2*cos(theta)**2 + r**2)*(2*M*a**2*r*sin(theta)**2 + a**2*(a**2*cos(theta)**2 + r**2) + r**2*(a**2*cos(theta)**2 + r**2)))*sin(theta)*cos(theta)/(a**2*cos(theta)**2 + r**2)**2]]), Matrix([\n",
            "[                                                                           0,                                                                    M*a*(a**2*cos(theta)**2 - r**2)*sin(theta)**2/(a**2*cos(theta)**2 + r**2)**2,                                                                                                                                                     4*M*a*r*(a**2 + r**2)*sin(2*theta)/(a**2*cos(2*theta) + a**2 + 2*r**2)**2,                                                                                                                                                                                                                             0],\n",
            "[M*a*(a**2*cos(theta)**2 - r**2)*sin(theta)**2/(a**2*cos(theta)**2 + r**2)**2,                                                                                                                                               0,                                                                                                                                                                                                                             0,                                                                               -M*a**4*sin(theta)**4*cos(theta)**2/(a**2*cos(theta)**2 + r**2)**2 + M*a**2*r**2*sin(theta)**4/(a**2*cos(theta)**2 + r**2)**2 - r*sin(theta)**2],\n",
            "[   4*M*a*r*(a**2 + r**2)*sin(2*theta)/(a**2*cos(2*theta) + a**2 + 2*r**2)**2,                                                                                                                                               0,                                                                                                                                                                                                                             0, -(2*M*a**2*r*(a**2 + r**2)*sin(theta)**2 + (a**2*cos(theta)**2 + r**2)*(2*M*a**2*r*sin(theta)**2 + a**2*(a**2*cos(theta)**2 + r**2) + r**2*(a**2*cos(theta)**2 + r**2)))*sin(theta)*cos(theta)/(a**2*cos(theta)**2 + r**2)**2],\n",
            "[                                                                           0, -M*a**4*sin(theta)**4*cos(theta)**2/(a**2*cos(theta)**2 + r**2)**2 + M*a**2*r**2*sin(theta)**4/(a**2*cos(theta)**2 + r**2)**2 - r*sin(theta)**2, -(2*M*a**2*r*(a**2 + r**2)*sin(theta)**2 + (a**2*cos(theta)**2 + r**2)*(2*M*a**2*r*sin(theta)**2 + a**2*(a**2*cos(theta)**2 + r**2) + r**2*(a**2*cos(theta)**2 + r**2)))*sin(theta)*cos(theta)/(a**2*cos(theta)**2 + r**2)**2,                                                                                                                                                                                                                             0]])]])\n",
            "Componente 1,2 del Tensor de Ricci:  0\n"
          ]
        }
      ],
      "source": [
        "#Se instala el módulo de GraviPy\n",
        "!pip install gravipy\n",
        "#Se importan las bibliotecas de cálculo simbólico\n",
        "import sympy\n",
        "from sympy import *\n",
        "import gravipy\n",
        "from gravipy.tensorial import *\n",
        "\n",
        "# Se crean símbolos para las variables presentes en la métrica de Kerr\n",
        "t , r , theta , phi , M , a , rhosq , Delta = symbols ('t , r , theta , phi , M , a , rhosq , Delta ')\n",
        "# Se define el vector de cuatro coordenadas\n",
        "x = Coordinates ('\\ chi ', [t , r , theta , phi ])\n",
        "\n",
        "# Se define la métrica de Kerr como una matriz diagonalizable\n",
        "rhosq = r **2+( a **2) * cos ( theta ) **2 # expresión de la sumatoria\n",
        "Delta = r **2 -2* M * r + a **2 # expresión del delta\n",
        "Metric = Matrix ([[(1 -(2* M * r ) / rhosq ) ,0 ,0 ,(2* a * M * r * sin ( theta ) **2) / rhosq ] ,[0 , -\n",
        "rhosq / Delta ,0 ,0] ,[0 ,0 , - rhosq ,0] ,[(2* a * M * r * sin ( theta ) **2) / rhosq ,0 ,0 , -( sin\n",
        "( theta ) **2) *(( r **2+ a **2) +(2*( a **2) * M * r * sin ( theta ) **2) / rhosq ) ]])\n",
        "\n",
        "# Se define el tensor de métrica\n",
        "g = MetricTensor ('g', x , Metric )\n",
        "\n",
        "# Se calculan los símbolos de Christoffel y se imprimen todos sus componentes\n",
        "Ga = Christoffel ('Ga ', g )\n",
        "print ( 'Símbolos de Christoffel:', Ga ( All , All , All ) )\n",
        "\n",
        "Ri = Ricci ('Ri ', g )\n",
        "print ( 'Componente 1,2 del Tensor de Ricci: ', Ri ( 1 , 2 ) )\n",
        "\n",
        "\n",
        "G = Einstein ('G', Ri )\n",
        "print ('Componente 1,2 del Tensor de Einstein:', G ( 1 , 2 ) ) \n",
        "# Para calcular el Tensor de Einstein se necesitan haber calculado todos los componentes del Tensor de Ricci. \n",
        "\n",
        "\n",
        "# NOTA: solo se imprime uno de los componentes del Tensor de Ricci y del Tensor de Einsten porque el tiempo de corrida \n",
        "# y la capacidad computacional requerida son muy altos. \n"
      ]
    },
    {
      "cell_type": "markdown",
      "metadata": {
        "id": "qCheOWlw3NHr"
      },
      "source": [
        "\\begin{equation}\n",
        "\\Gamma ^0 _{\\mu \\nu}=\n",
        "\\begin{bmatrix}\n",
        "0 & -M\\cdot \\frac{a^2cos(\\theta)^2 - r^2}{(a^2cos(\\theta)^2 + r^2)^2} & -4 M\\cdot \\frac{a^2r\\cdot sin(2\\theta)}{(a^2\\cdot cos(2\\theta) + a^2 + 2r^2)^2} & 0\\\\\n",
        "-M\\frac{a^2\\cdot cos(\\theta)^2 - r^2}{(a^2\\cdot cos(\\theta)^2 + r^2)^2} & 0 & 0 &  M\\frac{a[a^2 \\cdot cos(\\theta)^2 - r^2]\\cdot sin(\\theta)^2}{(a^2 \\cdot cos(\\theta)^2 + r^2)^2}\\\\\n",
        "-4 M\\cdot \\frac{a^2r\\cdot sin(2\\theta)}{(a^2\\cdot cos(2\\theta) + a^2 + 2r^2)^2} & 0 & 0 & 4 M\\cdot \\frac{a\\cdot r(a^2 + r^2)sin(2\\theta)}{(a^2\\cdot cos(2\\theta) + a^2 + 2r^2)^2}\\\\\n",
        "0 & M\\frac{a[a^2 \\cdot cos(\\theta)^2 - r^2]\\cdot sin(\\theta)^2}{(a^2 \\cdot cos(\\theta)^2 + r^2)^2} & 4 M\\cdot \\frac{a\\cdot r(a^2 + r^2)sin(2\\theta)}{(a^2\\cdot cos(2\\theta) + a^2 + 2r^2)^2} & 0\n",
        "\\end{bmatrix}\n",
        "\\end{equation}\n",
        "\n",
        "\\\n",
        "\n",
        "\\begin{equation}\n",
        "\\Gamma ^1 _{\\mu \\nu}=\n",
        "\\begin{bmatrix}\n",
        "M\\frac{(a^2cos(\\theta)^2 - r^2)}{(a^2cos(\\theta)^2 + r^2)^2} & 0 & 0 & -Ma\\frac{(a^2cos(\\theta)^2 - r^2)sin(\\theta)^2}{(a^2cos(\\theta)^2 + r^2)^2}\\\\\n",
        "0 & \\frac{-r(-2Mr + a^2 + r^2) + (-M + r)(a^2cos(\\theta)^2 + r^2)}{(-2Mr + a^2 + r^2)^2} & \\frac{a^2sin(2\\theta)}{2(-2Mr + a^2 + r^2)} & 0\\\\\n",
        "0 & \\frac{a^2sin(2\\theta)}{2(-2Mr + a^2 + r^2)} & r & 0\\\\\n",
        "-Ma\\frac{(a^2cos(\\theta)^2 - r^2)sin(\\theta)^2}{(a^2cos(\\theta)^2 + r^2)^2} & 0 & 0 & Ma^4\\frac{sin(\\theta)^4cos(\\theta)^2- Ma^2 r^2*sin(\\theta)^4}{(a^2cos(\\theta)^2 + r^2)^2} + rsin(\\theta)^2\n",
        "\\end{bmatrix}\n",
        "\\end{equation}\n",
        "\n",
        "\\\n",
        "\n",
        "\\begin{equation}\n",
        "\\Gamma ^2 _{\\mu \\nu}=\n",
        "\\begin{bmatrix}\n",
        "\\frac{4M\\cdot a^2r\\cdot sin(2\\theta)}{(a^2cos(2\\theta) + a^2 + 2r^2)^2} & 0 & 0 & \\frac{-4Ma\\cdot r(a^2 + r^2)sin(2\\theta)}{(a^2cos(2\\theta) + a^2 + 2r^2)^2}\\\\\n",
        "0 & \\frac{-a^2sin(2\\theta)}{2(-2M\\cdot r + a^2 + r^2)} & -r & 0\\\\\n",
        "0 & -r & \\frac{a^2sin(2\\theta)}{2} & 0\\\\ \n",
        "\\frac{-4Ma\\cdot r(a^2 + r^2)sin(2\\theta)}{(a^2cos(2\\theta) + a^2 + 2r^2)^2} & 0 & 0 & \\omega \\frac{sin(\\theta)cos(\\theta)}{(a^2cos(\\theta)^2 + r^2)^2}\n",
        "\\end{bmatrix}\n",
        "\\end{equation}\n",
        "\n",
        "Donde:\n",
        "\\begin{equation}\n",
        "\\omega = 2Ma^2r(a^2 + r^2)sin(\\theta)^2 +  (a^2cos(\\theta)^2 + r^2)\\left (2Ma^2r\\cdot sin(\\theta)^2 + a^2(a^2cos(\\theta)^2 + r^2) + r^2(a^2cos(\\theta)^2 + r^2) \\right )\n",
        "\\end{equation}\n",
        "\n",
        "\\\n",
        "\n",
        "\\begin{equation}\n",
        "\\Gamma ^3 _{\\mu \\nu}=\n",
        "\\begin{bmatrix}\n",
        "0 & M\\cdot a\\frac{(a^2\\cdot cos(\\theta)^2 - r^2)\\cdot sin(\\theta)^2}{(a^2\\cdot cos(\\theta)^2 + r^2)^2} & 4 M\\cdot \\frac{a\\cdot r(a^2 + r^2)\\cdot sin(2\\theta)}{(a^2cos(2\\theta) + a^2 + 2r^2)^2} & 0\\\\\n",
        "M\\cdot a\\frac{(a^2\\cdot cos(\\theta)^2 - r^2)\\cdot sin(\\theta)^2}{(a^2\\cdot cos(\\theta)^2 + r^2)^2} & 0 & 0 &  -Ma^4\\frac {sin(\\theta)^4cos(\\theta)^2}{(a^2cos(\\theta)^2 + r^2)^2} + \\frac{Ma^2r^2\\cdot sin(\\theta)^4}{(a^2cos(\\theta)^2 + r^2)^2} - r\\cdot sin(\\theta)^2\\\\\n",
        "4 M\\cdot \\frac{a\\cdot r(a^2 + r^2)\\cdot sin(2\\theta)}{(a^2cos(2\\theta) + a^2 + 2r^2)^2} & 0 & 0 & -\\chi \\frac{sin(\\theta)cos(\\theta)}{(a^2cos(\\theta)^2 + r^2)^2}\\\\\n",
        "0 & -Ma^4\\frac {sin(\\theta)^4cos(\\theta)^2}{(a^2cos(\\theta)^2 + r^2)^2} + \\frac{Ma^2r^2\\cdot sin(\\theta)^4}{(a^2cos(\\theta)^2 + r^2)^2} - r\\cdot sin(\\theta)^2 & -\\chi \\frac{sin(\\theta)cos(\\theta)}{(a^2cos(\\theta)^2 + r^2)^2} & 0\n",
        "\\end{bmatrix}\n",
        "\\end{equation}\n",
        "\n",
        "Donde:\n",
        "\\begin{equation}\n",
        "\\chi =-\\left ( 2Ma^2r(a^2 + r^2)sin(\\theta)^2 + (a^2cos(\\theta)^2 + r^2)[2Ma^2r\\cdot sin(\\theta)^2 + a^2(a^2cos(\\theta)^2 + r^2) + r^2(a^2cos(\\theta)^2 + r^2)]\\right )\n",
        "\\end{equation}\n",
        "\n",
        "\\\n",
        "\n",
        "Además, las componente 1,2 y 2,1 del tensor de Ricci son:\n",
        "\\begin{equation}\n",
        "R_{12}=R_{21}=0\n",
        "\\end{equation}"
      ]
    },
    {
      "cell_type": "markdown",
      "metadata": {
        "id": "AcNzG8lUmDjF"
      },
      "source": [
        "# **Agujero Kerr**\n",
        "\n",
        "Se define un Agujero Kerr como un agujero negro rotante ($J$ $\\neq$ 0) sin carga ($Q$ $\\neq$ 0), donde $J$ representa el momento angular del agujero negro y $Q$ su carga eléctrica. \\\\\n",
        "\n",
        "Cuando un cuerpo de gran masa se encuentra en rotación se genera una curvatura giratoria en el espacio-tiempo asociado al cuerpo en rotación. Esta curvatura hará que los objetos que se acerquen al cuerpo rotante se sientan atraídos a participar en la rotación de este. En el caso de un agujero negro rotante, todos los objetos y la luz que se acerquen lo suficiente rotarán con el agujero. Y se define la ergosfera de un agujero negro como esta región donde se atrae la rotación de objetos cercanos. \\\\\n",
        "\n",
        "En Relatividad General, se define una singularidad como una curvatura escalar invariante que se vuelve infinita o como una geodésica incompleta. Entonces, la métrica de Kerr que describe el Agujero de Kerr parece tener singularidades aparentes, que se manifiestan como variaciones en la ergosfera y el horizonte de eventos del mismo. Estas variaciones dependerán directamente del factor de giro del agujero negro $a$ que a su vez se define por el momento angular $J$ y la masa $M$ del agujero. \\\\\n",
        "\n",
        "Por otro lado, el horizonte de eventos de un agujero negro se define como una hipersuperficie frontera del espacio-tiempo que delimita la región en la cual los objetos y eventos que suceden dentro de este horizonte no pueden afectar a aquellos situados fuera de este. \n",
        "\n",
        "Ahora, la métrica de Kerr se puede expresar a partir de las coordenadas de Boyer-Lindquist de la forma:\n",
        "\n",
        "\\begin{equation}\n",
        "ds^2 = -\\left(1-\\frac{r r_s}{\\sum}\\right)c^2dt^2 + \\frac{\\sum}{\\Delta} dr^2 + \\sum d\\theta^2+ \\left(r^2+a^2+\\frac{r_s r a^2}{\\sum}sin^2\\theta \\right)sin^2\\theta d\\phi^2 - \\frac{2r_sra\\cdot sin^2\\theta}{\\sum}cdtd\\phi\n",
        "\\end{equation}\n",
        "\n",
        "donde, $r_s$ es el radio de Schwarzchild y $\\Delta$ y $\\sum$ habían sido definidas previamente. \\\\\n",
        "\n",
        "El segundo objetivo específico de este proyecto consisitía en modelar la ergosfera y el horizonte de eventos de un Agujero Kerr a partir de los diferenciales de la métrica de Kerr en coordenadas de BoyerLindquist. Se modelaron dos Agujeros Kerr con parámetros de giro distintos con el fin de observar la variación de las singularidades en la ergosfera y el horizonte de eventos de ambos agujeros. "
      ]
    },
    {
      "cell_type": "code",
      "execution_count": null,
      "metadata": {
        "colab": {
          "base_uri": "https://localhost:8080/",
          "height": 931
        },
        "id": "QfOWrVWPxEJH",
        "outputId": "bb101e2d-e369-47fa-8a82-cb06549aa903"
      },
      "outputs": [
        {
          "name": "stdout",
          "output_type": "stream",
          "text": [
            "Looking in indexes: https://pypi.org/simple, https://us-python.pkg.dev/colab-wheels/public/simple/\n",
            "Requirement already satisfied: einsteinpy in /usr/local/lib/python3.7/dist-packages (0.4.0)\n",
            "Requirement already satisfied: numba!=0.49.0,>=0.46 in /usr/local/lib/python3.7/dist-packages (from einsteinpy) (0.51.2)\n",
            "Requirement already satisfied: numpy in /usr/local/lib/python3.7/dist-packages (from einsteinpy) (1.21.6)\n",
            "Requirement already satisfied: astropy in /usr/local/lib/python3.7/dist-packages (from einsteinpy) (4.3.1)\n",
            "Requirement already satisfied: sympy>=1.1 in /usr/local/lib/python3.7/dist-packages (from einsteinpy) (1.7.1)\n",
            "Requirement already satisfied: plotly>=4.0 in /usr/local/lib/python3.7/dist-packages (from einsteinpy) (5.5.0)\n",
            "Requirement already satisfied: matplotlib in /usr/local/lib/python3.7/dist-packages (from einsteinpy) (3.2.2)\n",
            "Requirement already satisfied: scipy>=1.0 in /usr/local/lib/python3.7/dist-packages (from einsteinpy) (1.4.1)\n",
            "Requirement already satisfied: setuptools in /usr/local/lib/python3.7/dist-packages (from numba!=0.49.0,>=0.46->einsteinpy) (57.4.0)\n",
            "Requirement already satisfied: llvmlite<0.35,>=0.34.0.dev0 in /usr/local/lib/python3.7/dist-packages (from numba!=0.49.0,>=0.46->einsteinpy) (0.34.0)\n",
            "Requirement already satisfied: tenacity>=6.2.0 in /usr/local/lib/python3.7/dist-packages (from plotly>=4.0->einsteinpy) (8.0.1)\n",
            "Requirement already satisfied: six in /usr/local/lib/python3.7/dist-packages (from plotly>=4.0->einsteinpy) (1.15.0)\n",
            "Requirement already satisfied: mpmath>=0.19 in /usr/local/lib/python3.7/dist-packages (from sympy>=1.1->einsteinpy) (1.2.1)\n",
            "Requirement already satisfied: importlib-metadata in /usr/local/lib/python3.7/dist-packages (from astropy->einsteinpy) (4.11.3)\n",
            "Requirement already satisfied: pyerfa>=1.7.3 in /usr/local/lib/python3.7/dist-packages (from astropy->einsteinpy) (2.0.0.1)\n",
            "Requirement already satisfied: typing-extensions>=3.6.4 in /usr/local/lib/python3.7/dist-packages (from importlib-metadata->astropy->einsteinpy) (4.2.0)\n",
            "Requirement already satisfied: zipp>=0.5 in /usr/local/lib/python3.7/dist-packages (from importlib-metadata->astropy->einsteinpy) (3.8.0)\n",
            "Requirement already satisfied: kiwisolver>=1.0.1 in /usr/local/lib/python3.7/dist-packages (from matplotlib->einsteinpy) (1.4.2)\n",
            "Requirement already satisfied: pyparsing!=2.0.4,!=2.1.2,!=2.1.6,>=2.0.1 in /usr/local/lib/python3.7/dist-packages (from matplotlib->einsteinpy) (3.0.9)\n",
            "Requirement already satisfied: python-dateutil>=2.1 in /usr/local/lib/python3.7/dist-packages (from matplotlib->einsteinpy) (2.8.2)\n",
            "Requirement already satisfied: cycler>=0.10 in /usr/local/lib/python3.7/dist-packages (from matplotlib->einsteinpy) (0.11.0)\n"
          ]
        },
        {
          "data": {
            "text/plain": [
              "<matplotlib.legend.Legend at 0x7fd08ea57450>"
            ]
          },
          "execution_count": 23,
          "metadata": {},
          "output_type": "execute_result"
        },
        {
          "data": {
            "image/png": "[encoded data removed]",
            "text/plain": [
              "<Figure size 1080x540 with 2 Axes>"
            ]
          },
          "metadata": {},
          "output_type": "display_data"
        }
      ],
      "source": [
        "# Se instala el módulo de EinsteinPy\n",
        "!pip install einsteinpy\n",
        "# Se importa la biblioteca de unidades astronómicas\n",
        "import astropy.units as u\n",
        "# Se importan las bibliotecas NumPy y Matplotlib\n",
        "import numpy as np\n",
        "import matplotlib.pyplot as plt\n",
        "\n",
        "# Se importa del módulo EinsteinPy las coordenadas de Boyer Lindquist y la métrica de Kerr\n",
        "from einsteinpy.coordinates import BoyerLindquistDifferential\n",
        "from einsteinpy.metric import Kerr\n",
        "\n",
        "\n",
        "# Se define la masa del Agujero Kerr\n",
        "M = 4e30 * u.kg\n",
        "# Se definen dos parámetros de giro para dos Agujeros Kerr\n",
        "a1 = 0.4 * u.one #Agujero Kerr con rotación normal\n",
        "a2 = 0.9 * u.one #Agujero Kerr con rotación máxima\n",
        "\n",
        "# Se definen las coordenadas de la métrica, donde el valor de las mismas es irrelevante\n",
        "bl = BoyerLindquistDifferential(\n",
        "    t=0. * u.s,\n",
        "    r=1e3 * u.m,\n",
        "    theta=np.pi / 2 * u.rad,\n",
        "    phi=np.pi * u.rad,\n",
        "    v_r=0. * u.m / u.s,\n",
        "    v_th=0. * u.rad / u.s,\n",
        "    v_p=0. * u.rad / u.s,\n",
        ")\n",
        "\n",
        "# Se definen los dos Agujeros Kerr\n",
        "kerr1 = Kerr(coords=bl, M=M, a=a1)\n",
        "kerr2 = Kerr(coords=bl, M=M, a=a2)\n",
        "\n",
        "# Se definen las singularidades para ambos agujeros\n",
        "sing_dict1 = kerr1.singularities()\n",
        "sing_dict2 = kerr2.singularities()\n",
        "\n",
        "# Se define un arreglo de ángulos polares para graficar en coordenadas polares\n",
        "theta = np.linspace(0, 2 * np.pi, 100)\n",
        "\n",
        "# Se definen las ergosferas internas y externas de ambos agujeros\n",
        "Ei1, Eo1 = sing_dict1[\"inner_ergosphere\"], sing_dict1[\"outer_ergosphere\"]\n",
        "Ei2, Eo2 = sing_dict2[\"inner_ergosphere\"], sing_dict2[\"outer_ergosphere\"]\n",
        "\n",
        "# Se evalúan las ergosferas internas y externas en los ángulos polares definidos para ambos agujeros\n",
        "Ei1_list, Eo1_list = Ei1(theta), Eo1(theta)\n",
        "Ei2_list, Eo2_list = Ei2(theta), Eo2(theta)\n",
        "\n",
        "# Se definen las funciones x y y que describen la ergosfera del primer Agujero Kerr (a = 0,4)\n",
        "Xei1 = Ei1_list * np.sin(theta)\n",
        "Yei1 = Ei1_list * np.cos(theta)\n",
        "\n",
        "Xeo1 = Eo1_list * np.sin(theta)\n",
        "Yeo1 = Eo1_list * np.cos(theta)\n",
        "\n",
        "# Se definen las funciones x y y que describen la ergosfera del segundo Agujero Kerr (a = 0,9)\n",
        "Xei2 = Ei2_list * np.sin(theta)\n",
        "Yei2 = Ei2_list * np.cos(theta)\n",
        "\n",
        "Xeo2 = Eo2_list * np.sin(theta)\n",
        "Yeo2 = Eo2_list * np.cos(theta)\n",
        "\n",
        "# Se define el horizonte de eventos interno y externo de ambos agujeros\n",
        "Hi1, Ho1 = sing_dict1[\"inner_horizon\"], sing_dict1[\"outer_horizon\"]\n",
        "Hi2, Ho2 = sing_dict2[\"inner_horizon\"], sing_dict2[\"outer_horizon\"]\n",
        "\n",
        "# Se definen las funciones x y y que describen el horizonte de eventos del primer Agujero Kerr (a = 0,4)\n",
        "Xhi1 = Hi1 * np.sin(theta)\n",
        "Yhi1 = Hi1 * np.cos(theta)\n",
        "\n",
        "Xho1 = Ho1 * np.sin(theta)\n",
        "Yho1 = Ho1 * np.cos(theta)\n",
        "\n",
        "# Se definen las funciones x y y que describen el horizonte de eventos del segundo Agujero Kerr (a = 0,9)\n",
        "Xhi2 = Hi2 * np.sin(theta)\n",
        "Yhi2 = Hi2 * np.cos(theta)\n",
        "\n",
        "Xho2 = Ho2 * np.sin(theta)\n",
        "Yho2 = Ho2 * np.cos(theta)\n",
        "\n",
        "# Se grafican las ergosferas y el horizonte de eventos de ambos Agujeros Kerr\n",
        "fig, (ax1, ax2) = plt.subplots(1, 2, figsize=(15,7.5))\n",
        "\n",
        "ax1.fill(Xei1, Yei1, 'k', Xeo1, Yeo1, 'r', Xhi1, Yhi1, 'y', Xho1, Yho1, 'm', alpha=0.3)\n",
        "ax1.set_title(f\"$M = {M}, a = {a1}$\", fontsize=18)\n",
        "ax1.set_xlabel(\"X\", fontsize=18)\n",
        "ax1.set_ylabel(\"Y\", fontsize=18)\n",
        "ax1.set_xlim([-6100, 6100])\n",
        "ax1.set_ylim([-6100, 6100])\n",
        "ax1.legend(['ergosfera interna', 'ergosfera externa', 'horizonte de eventos interno', 'horizonte de eventos externo' ], loc = 'lower left')\n",
        "\n",
        "ax2.fill(Xei2, Yei2, 'k', Xeo2, Yeo2, 'r', Xhi2, Yhi2, 'y', Xho2, Yho2, 'm', alpha=0.3)\n",
        "ax2.set_title(f\"$M = {M}, a = {a2}$\", fontsize=18)\n",
        "ax2.set_xlabel(\"X\", fontsize=18)\n",
        "ax2.set_ylabel(\"Y\", fontsize=18)\n",
        "ax2.set_xlim([-6100, 6100])\n",
        "ax2.set_ylim([-6100, 6100])\n",
        "ax2.legend(['ergosfera interna', 'ergosfera externa', 'horizonte de eventos interno', 'horizonte de eventos externo' ], loc = 'lower left')"
      ]
    },
    {
      "cell_type": "markdown",
      "source": [
        "#**Conclusiones Relevantes**\n",
        "\n",
        "Cuando el factor de giro del agujero negro se acerca a cero, las singularidades se desvanecen ocasionando que la ergosfera y el horizonte de eventos se vean cuasiesféricos en el Agujero Kerr con rotación normal. Mientras que, conforme el parámetro de giro se acerca a 1, las singularidades toman más prominencia y esto se puede identificar en la geometría que describe la ergosfera y el horizonte de eventos del Agujero Kerr en rotación máxima. \n",
        "\n",
        "Cuanto menor sea el momento angular del Agujero Kerr, implicado en el parámetro de giro, el radio del horizonte de eventos aumenta y el radio de la ergosfera decrece. \n"
      ],
      "metadata": {
        "id": "vds7yGA8CI8P"
      }
    },
    {
      "cell_type": "markdown",
      "metadata": {
        "id": "x-KGDQ_fXGLi"
      },
      "source": [
        "# **Referencias Bibliográficas**\n",
        "\n",
        "[1] I.F. Ranea, 'Perturbaciones Gravitacionales a la Métrica de Kerr', Tesis de Licenciatura en Astronomía, Universidad Nacional de La Plata, 2009. \n",
        "\n",
        "[2] M. Bernagozzi, 'A mathematical introduction to Kerr black holes', Tesis en Matemáticas, Universidad de Bologna, 2013. \n",
        "\n",
        "[3] T.Birkandan, et. al. 'Symbolic and Numerical Analysis in General Relativity with Open Source Computer Algebra Systems'. Istanbul Technical University, 2018. \n",
        "\n",
        "[4] 'Métrica de Kerr'. [Online]. Disponible en: https://hmong.es/wiki/Kerr_metric. [Accessed: 31/05/22]. \n"
      ]
    },
    {
      "cell_type": "markdown",
      "metadata": {
        "id": "rMsLoavePgx0"
      },
      "source": [
        "# **Enlaces a repositorios utilizados:**\n",
        "\n",
        "Métrica de Kerr: \n",
        "https://github.com/wojciechczaja/GraviPy/blob/master/docs/GraviPy-tutorial.ipynb\n",
        "\n",
        "Agujero Kerr: https://docs.einsteinpy.org/en/stable/examples/Visualizing%20Event%20Horizon%20and%20Ergosphere%20%28Singularities%29%20of%20Kerr%20Metric%20or%20Black%20Hole.html"
      ]
    }
  ],
  "metadata": {
    "colab": {
      "collapsed_sections": [],
      "name": "Tarea Astro.ipynb",
      "provenance": []
    },
    "kernelspec": {
      "display_name": "Python 3",
      "name": "python3"
    },
    "language_info": {
      "name": "python"
    }
  },
  "nbformat": 4,
  "nbformat_minor": 0
}